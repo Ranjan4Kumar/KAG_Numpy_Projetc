{
  "nbformat": 4,
  "nbformat_minor": 0,
  "metadata": {
    "colab": {
      "name": "Project-KAG",
      "provenance": [],
      "include_colab_link": true
    },
    "kernelspec": {
      "name": "python3",
      "display_name": "Python 3"
    },
    "language_info": {
      "name": "python"
    }
  },
  "cells": [
    {
      "cell_type": "markdown",
      "metadata": {
        "id": "view-in-github",
        "colab_type": "text"
      },
      "source": [
        "<a href=\"https://colab.research.google.com/github/Ranjan4Kumar/KAG_Numpy_Projetc/blob/main/Project_KAG.ipynb\" target=\"_parent\"><img src=\"https://colab.research.google.com/assets/colab-badge.svg\" alt=\"Open In Colab\"/></a>"
      ]
    },
    {
      "cell_type": "code",
      "execution_count": null,
      "metadata": {
        "id": "qmbjY1iqFV57",
        "colab": {
          "base_uri": "https://localhost:8080/"
        },
        "outputId": "c1bcd1b5-46af-4f8b-9ddc-ead024ffc55c"
      },
      "outputs": [
        {
          "output_type": "stream",
          "name": "stdout",
          "text": [
            "\n",
            "Data: \n",
            "\n",
            "  [[7.08746000e+05 9.16000000e+02 1.03916000e+05 ... 1.42999995e+00\n",
            "  2.00000000e+00 1.00000000e+00]\n",
            " [7.08749000e+05 9.16000000e+02 1.03917000e+05 ... 1.82000002e+00\n",
            "  2.00000000e+00 0.00000000e+00]\n",
            " [7.08771000e+05 9.16000000e+02 1.03920000e+05 ... 0.00000000e+00\n",
            "  1.00000000e+00 0.00000000e+00]\n",
            " ...\n",
            " [1.31441200e+06 1.17800000e+03 1.79979000e+05 ... 4.02899995e+01\n",
            "  2.00000000e+00 0.00000000e+00]\n",
            " [1.31441400e+06 1.17800000e+03 1.79981000e+05 ... 1.98710001e+02\n",
            "  8.00000000e+00 2.00000000e+00]\n",
            " [1.31441500e+06 1.17800000e+03 1.79982000e+05 ... 1.65609999e+02\n",
            "  5.00000000e+00 2.00000000e+00]]\n"
          ]
        },
        {
          "output_type": "execute_result",
          "data": {
            "text/plain": [
              "array([['708746', '916', '103916', ..., '1.429999948', '2', '1'],\n",
              "       ['708749', '916', '103917', ..., '1.820000023', '2', '0'],\n",
              "       ['708771', '916', '103920', ..., '0', '1', '0'],\n",
              "       ...,\n",
              "       ['1314412', '1178', '179979', ..., '40.28999949', '2', '0'],\n",
              "       ['1314414', '1178', '179981', ..., '198.7100005', '8', '2'],\n",
              "       ['1314415', '1178', '179982', ..., '165.6099987', '5', '2']],\n",
              "      dtype='<U11')"
            ]
          },
          "metadata": {},
          "execution_count": 5
        }
      ],
      "source": [
        "import numpy as np\n",
        "\n",
        "data_file = '/content/drive/MyDrive/Data_sets/KAG_Conversion_Data.csv'\n",
        "\n",
        "data = np.genfromtxt(data_file, delimiter=\",\", skip_header=1)\n",
        "print(\"\\nData: \\n\\n \", data)\n",
        "data1 = np.genfromtxt(data_file, delimiter=\",\",dtype ='str',skip_header=1)\n",
        "data1"
      ]
    },
    {
      "cell_type": "code",
      "source": [
        "xyz_camp = data[:,1]\n",
        "xyz_uni = np.unique(xyz_camp)\n",
        "print(\"unique ad campaign's of xyzcampaignid:\",xyz_uni.size, xyz_uni)\n",
        "\n",
        "for i in xyz_uni:\n",
        " count = np.count_nonzero(xyz_camp==i)\n",
        " print(\"count of \"+str(i)+\":\",count)\n"
      ],
      "metadata": {
        "colab": {
          "base_uri": "https://localhost:8080/"
        },
        "id": "6MXx-C5rs8dt",
        "outputId": "d7b77e0f-c730-4980-af79-b6f58841f29d"
      },
      "execution_count": null,
      "outputs": [
        {
          "output_type": "stream",
          "name": "stdout",
          "text": [
            "unique ad campaign's of xyzcampaignid: 3 [ 916.  936. 1178.]\n",
            "count of 916.0: 54\n",
            "count of 936.0: 464\n",
            "count of 1178.0: 625\n"
          ]
        }
      ]
    },
    {
      "cell_type": "code",
      "source": [
        "age = data1[:,3]\n",
        "age_groups=np.unique(age)\n",
        "print(\"The age groups that were targeted through these ad campaigns:\")\n",
        "for i in age_groups:\n",
        " print(i,end=\", \")"
      ],
      "metadata": {
        "colab": {
          "base_uri": "https://localhost:8080/"
        },
        "id": "qjTG-R6HG3wL",
        "outputId": "52d05f94-177f-4add-a707-ec63bb6ba6ca"
      },
      "execution_count": null,
      "outputs": [
        {
          "output_type": "stream",
          "name": "stdout",
          "text": [
            "The age groups that were targeted through these ad campaigns:\n",
            "30-34, 35-39, 40-44, 45-49, "
          ]
        }
      ]
    },
    {
      "cell_type": "code",
      "source": [
        "spend = data[:,8]\n",
        "spend_min=np.min(spend)\n",
        "spend_max=np.max(spend)\n",
        "spend_avg = (spend_min + spend_max)/2\n",
        "print(\"The average, minimum amount: \"+ str(spend_min)+\"\\n and maximum amount: \"+str(spend_max)+ \"\\nspent on the ads:\",spend_avg)"
      ],
      "metadata": {
        "colab": {
          "base_uri": "https://localhost:8080/"
        },
        "id": "kxjYLY-uZ6LZ",
        "outputId": "187a90b8-3323-4e6f-9b96-1001b129c57b"
      },
      "execution_count": null,
      "outputs": [
        {
          "output_type": "stream",
          "name": "stdout",
          "text": [
            "The average, minimum amount: 0.0\n",
            " and maximum amount: 639.9499981\n",
            "spent on the ads: 319.97499905\n"
          ]
        }
      ]
    },
    {
      "cell_type": "code",
      "source": [
        "clicks = data[:,7]\n",
        "Id_ad = data[:,:1]\n",
        "max_ad_id = np.extract(clicks==max(clicks),Id_ad)\n",
        "print(\"The id of the ad having the maximum number of clicks: \",max_ad_id[0])"
      ],
      "metadata": {
        "colab": {
          "base_uri": "https://localhost:8080/"
        },
        "id": "QmBVORetrZJ6",
        "outputId": "49964abc-12fa-4378-d202-7c4ea94de90a"
      },
      "execution_count": null,
      "outputs": [
        {
          "output_type": "stream",
          "name": "stdout",
          "text": [
            "The id of the ad having the maximum number of clicks:  1121814.0\n"
          ]
        }
      ]
    },
    {
      "cell_type": "code",
      "source": [
        "Approved_Conversion = data[:,10]\n",
        "most_clicks=max(clicks)\n",
        "#print(most_clicks)\n",
        "people_bought = np.extract(clicks==max(clicks),Approved_Conversion)\n",
        "print(\"No of people bought the product after \\nseeing the ad with most clicks: \",people_bought[0])\n",
        "max_purchase=max(Approved_Conversion)\n",
        "print(\"\\nMaximum number of purchases\",max_purchase)\n",
        "if most_clicks == max_purchase:\n",
        "  print(\"\\nMost clicks have the maximum number of purchases\")\n",
        "else:\n",
        "  print(\"\\nSo the most clicks didn't fetch the maximum number of purchases\")\n"
      ],
      "metadata": {
        "colab": {
          "base_uri": "https://localhost:8080/"
        },
        "id": "rmfs6QCny8N9",
        "outputId": "aa5b1eea-988b-465d-f9d7-2a7e598e7037"
      },
      "execution_count": null,
      "outputs": [
        {
          "output_type": "stream",
          "name": "stdout",
          "text": [
            "No of people bought the product after \n",
            "seeing the ad with most clicks:  13.0\n",
            "\n",
            "Maximum number of purchases 21.0\n",
            "\n",
            "So the most clicks didn't fetch the maximum number of purchases\n"
          ]
        }
      ]
    },
    {
      "cell_type": "code",
      "source": [
        "max_product = max(Approved_Conversion)\n",
        "print(\"Product having maximum number of purchases:\",max_product)\n",
        "interest = data1[:,5]\n",
        "fb_campaign_id = data1[:,2]\n",
        "gender = data1[:,4]\n",
        "impressions = data1[:,6]\n",
        "spent = data1[:,8]\n",
        "total_conversion = data1[:,9]\n",
        "approved_Conversion = data[:,10]\n",
        "data_set = [Id_ad, xyz_camp,fb_campaign_id,age,gender,interest,impressions,clicks,spent,total_conversion,approved_Conversion]\n",
        "for i in data_set:\n",
        " details_product = np.extract(Approved_Conversion==max(Approved_Conversion),i)\n",
        " print(\":\",details_product[0])\n",
        "  \n",
        "  "
      ],
      "metadata": {
        "colab": {
          "base_uri": "https://localhost:8080/"
        },
        "id": "CiCOhUeqFuoG",
        "outputId": "1c9de15d-63b6-455d-bfa0-ffa720112e00"
      },
      "execution_count": null,
      "outputs": [
        {
          "output_type": "stream",
          "name": "stdout",
          "text": [
            "Product having maximum number of purchases: 21.0\n",
            ": 1121104.0\n",
            ": 1178.0\n",
            ": 144533\n",
            ": 30-34\n",
            ": M\n",
            ": 16\n",
            ": 2080666\n",
            ": 202.0\n",
            ": 360.1500015\n",
            ": 40\n",
            ": 21.0\n"
          ]
        }
      ]
    }
  ]
}