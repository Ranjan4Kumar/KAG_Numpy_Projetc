{
  "nbformat": 4,
  "nbformat_minor": 0,
  "metadata": {
    "colab": {
      "provenance": [],
      "authorship_tag": "ABX9TyNA4Y24fZlkEgTULpdzLr1d",
      "include_colab_link": true
    },
    "kernelspec": {
      "name": "python3",
      "display_name": "Python 3"
    },
    "language_info": {
      "name": "python"
    }
  },
  "cells": [
    {
      "cell_type": "markdown",
      "metadata": {
        "id": "view-in-github",
        "colab_type": "text"
      },
      "source": [
        "<a href=\"https://colab.research.google.com/github/Ranjan4Kumar/KAG_Numpy_Projetc/blob/main/Numpy_practice_1.ipynb\" target=\"_parent\"><img src=\"https://colab.research.google.com/assets/colab-badge.svg\" alt=\"Open In Colab\"/></a>"
      ]
    },
    {
      "cell_type": "code",
      "execution_count": 1,
      "metadata": {
        "id": "eo1fczbW-OBb"
      },
      "outputs": [],
      "source": [
        "import numpy as np"
      ]
    },
    {
      "cell_type": "code",
      "source": [
        "prices = [[40, 35, 20], [21, 48, 70]]\n",
        "\n",
        "min_price = float('inf')\n",
        "max_price = float('-inf')\n",
        "buy_index = sell_index = 0\n",
        "\n",
        "# Find minimum price on day 1\n",
        "for i, price in enumerate(prices[0]):\n",
        "    if price < min_price:\n",
        "        min_price = price\n",
        "        buy_index = i\n",
        "\n",
        "# Find maximum price on day 2\n",
        "for i, price in enumerate(prices[1]):\n",
        "    if price > max_price:\n",
        "        max_price = price\n",
        "        sell_index = i\n",
        "\n",
        "profit = max_price - min_price\n",
        "\n",
        "print(\"Minimum price on day 1:\", min_price)\n",
        "print(\"Maximum price on day 2:\", max_price)\n",
        "print(\"Profit:\", profit)\n",
        "print(\"Buying session index:\", buy_index)\n",
        "print(\"Selling session index:\", sell_index)\n"
      ],
      "metadata": {
        "colab": {
          "base_uri": "https://localhost:8080/"
        },
        "id": "ER-VUYRW-Pra",
        "outputId": "2df574c8-cd6e-4ce0-aed6-601250cde26e"
      },
      "execution_count": 2,
      "outputs": [
        {
          "output_type": "stream",
          "name": "stdout",
          "text": [
            "Minimum price on day 1: 20\n",
            "Maximum price on day 2: 70\n",
            "Profit: 50\n",
            "Buying session index: 2\n",
            "Selling session index: 2\n"
          ]
        }
      ]
    }
  ]
}